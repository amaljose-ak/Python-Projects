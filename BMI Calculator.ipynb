{
 "cells": [
  {
   "cell_type": "code",
   "execution_count": 15,
   "id": "890d327b-cd5e-46bf-8170-76a581d28d71",
   "metadata": {
    "tags": []
   },
   "outputs": [
    {
     "name": "stdin",
     "output_type": "stream",
     "text": [
      "Enter Your Name:  Amal Jose\n",
      "Enter Your Weight in Pounds:  182\n",
      "Enter Your Height in Inches:  70\n"
     ]
    },
    {
     "name": "stdout",
     "output_type": "stream",
     "text": [
      "26.111428571428572\n",
      "Amal Jose Yeah, You are Overweight\n"
     ]
    }
   ],
   "source": [
    "name = input(\"Enter Your Name: \")\n",
    "weight = int(input(\"Enter Your Weight in Pounds: \"))\n",
    "height = int(input(\"Enter Your Height in Inches: \"))\n",
    "\n",
    "BMI = (weight * 703) / (height * height)\n",
    "\n",
    "print(BMI)\n",
    "\n",
    "if BMI > 0:\n",
    "    if BMI < 18.5:\n",
    "        print(name + \" Yeah, You are Underweight\")\n",
    "    elif BMI <= 24.9:\n",
    "        print(name + \" You are Normal Weight\")\n",
    "    elif BMI < 29.9:\n",
    "        print(name + \" Yeah, You are Overweight\")\n",
    "    elif BMI < 34.9:\n",
    "        print(name + \" You are Obese\")\n",
    "    elif BMI < 39.9:\n",
    "        print(name + \" You are in severe obesity\")\n",
    "    else:\n",
    "        print(name + \" Hey, what bro\")\n",
    "else:\n",
    "    print(\"Enter valid inputs\")\n"
   ]
  },
  {
   "cell_type": "code",
   "execution_count": null,
   "id": "8b63aa80-4a73-4777-bde7-d3b3814c30cb",
   "metadata": {},
   "outputs": [],
   "source": []
  }
 ],
 "metadata": {
  "kernelspec": {
   "display_name": "Python 3 (ipykernel)",
   "language": "python",
   "name": "python3"
  },
  "language_info": {
   "codemirror_mode": {
    "name": "ipython",
    "version": 3
   },
   "file_extension": ".py",
   "mimetype": "text/x-python",
   "name": "python",
   "nbconvert_exporter": "python",
   "pygments_lexer": "ipython3",
   "version": "3.11.5"
  }
 },
 "nbformat": 4,
 "nbformat_minor": 5
}
